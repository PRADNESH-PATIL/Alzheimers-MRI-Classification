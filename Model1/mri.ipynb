{
 "cells": [
  {
   "cell_type": "markdown",
   "id": "f9aec9dd",
   "metadata": {},
   "source": [
    "Cell 1: Dataset Splitting\n",
    "\n",
    "Installed and used split-folders to divide your augmented Alzheimer MRI dataset into:\n",
    "\n",
    "70% training\n",
    "\n",
    "15% validation\n",
    "\n",
    "15% testing\n"
   ]
  },
  {
   "cell_type": "code",
   "execution_count": 3,
   "id": "949dcfc4",
   "metadata": {},
   "outputs": [
    {
     "name": "stdout",
     "output_type": "stream",
     "text": [
      "Requirement already satisfied: split-folders in d:\\college\\major project\\code\\venv\\lib\\site-packages (0.5.1)\n",
      "Note: you may need to restart the kernel to use updated packages.\n"
     ]
    },
    {
     "name": "stderr",
     "output_type": "stream",
     "text": [
      "Copying files: 33984 files [02:08, 263.70 files/s]\n"
     ]
    }
   ],
   "source": [
    "# Install split-folders if not already installed\n",
    "%pip install split-folders\n",
    "# pyright: ignore[reportMissingImports]\n",
    "import splitfolders\n",
    "\n",
    "# Path to your augmented dataset (use raw strings)\n",
    "input_folder = r\"D:\\Dataset-MRI-img\\AugmentedAlzheimerDataset\"\n",
    "\n",
    "# Output folder where split data will be stored\n",
    "output_folder = r\"D:\\Split data\"\n",
    "\n",
    "# Perform 70% train, 15% validation, 15% test split\n",
    "splitfolders.ratio(\n",
    "    input_folder,\n",
    "    output=output_folder,\n",
    "    seed=42,\n",
    "    ratio=(0.7, 0.15, 0.15)\n",
    ")\n"
   ]
  },
  {
   "cell_type": "markdown",
   "id": "55b4907b",
   "metadata": {},
   "source": [
    "Cell 2: Data Preparation\n",
    "\n",
    "Set dataset paths: train, val, test folders.\n",
    "\n",
    "Applied image transformations:\n",
    "\n",
    "Resize → convert all images to 224×224 (standard input for VGG16).\n",
    "\n",
    "ToTensor → scales pixel values [0–255] to [0–1].\n",
    "\n",
    "Created PyTorch datasets using ImageFolder (loads images by folder names as labels).\n",
    "\n",
    "Built DataLoaders for efficient batching & shuffling.\n",
    "\n",
    "Printed class info → num_classes and mapping of class names to indices."
   ]
  },
  {
   "cell_type": "code",
   "execution_count": 4,
   "id": "103c99c9",
   "metadata": {},
   "outputs": [
    {
     "name": "stdout",
     "output_type": "stream",
     "text": [
      "num_classes: 4\n",
      "class_indices: {'MildDemented': 0, 'ModerateDemented': 1, 'NonDemented': 2, 'VeryMildDemented': 3}\n",
      "Batch images shape: torch.Size([32, 3, 224, 224])\n",
      "Batch labels shape: torch.Size([32])\n"
     ]
    }
   ],
   "source": [
    "import os\n",
    "from torchvision import datasets, transforms\n",
    "from torch.utils.data import DataLoader\n",
    "\n",
    "# ✅ Paths to your split dataset\n",
    "TRAIN_DIR = r\"D:\\Split data\\train\"\n",
    "VAL_DIR   = r\"D:\\Split data\\val\"\n",
    "TEST_DIR  = r\"D:\\Split data\\test\"\n",
    "\n",
    "# ✅ Parameters\n",
    "BATCH_SIZE = 32\n",
    "IMG_SIZE = 224  # VGG16 standard input\n",
    "\n",
    "# ✅ Transformations: rescale and resize (PyTorch expects 0-1 floats)\n",
    "data_transforms = transforms.Compose([\n",
    "    transforms.Resize((IMG_SIZE, IMG_SIZE)),\n",
    "    transforms.ToTensor(),  # automatically scales 0-255 to 0-1\n",
    "])\n",
    "\n",
    "# ✅ Load datasets\n",
    "train_dataset = datasets.ImageFolder(root=TRAIN_DIR, transform=data_transforms)\n",
    "val_dataset   = datasets.ImageFolder(root=VAL_DIR, transform=data_transforms)\n",
    "test_dataset  = datasets.ImageFolder(root=TEST_DIR, transform=data_transforms)\n",
    "\n",
    "# ✅ DataLoaders\n",
    "train_loader = DataLoader(train_dataset, batch_size=BATCH_SIZE, shuffle=True)\n",
    "val_loader   = DataLoader(val_dataset, batch_size=BATCH_SIZE, shuffle=False)\n",
    "test_loader  = DataLoader(test_dataset, batch_size=BATCH_SIZE, shuffle=False)\n",
    "\n",
    "# ✅ Class info\n",
    "num_classes = len(train_dataset.classes)\n",
    "class_indices = train_dataset.class_to_idx\n",
    "print(\"num_classes:\", num_classes)\n",
    "print(\"class_indices:\", class_indices)\n",
    "\n",
    "# Optional: quick sanity check\n",
    "for images, labels in train_loader:\n",
    "    print(\"Batch images shape:\", images.shape)  # [batch_size, 3, 224, 224]\n",
    "    print(\"Batch labels shape:\", labels.shape)\n",
    "    break\n"
   ]
  },
  {
   "cell_type": "markdown",
   "id": "aa8d4c96",
   "metadata": {},
   "source": [
    "Cell 3: GPU Check\n",
    "\n",
    "Checked if CUDA GPU is available.\n",
    "\n",
    "Printed GPU details → confirms your model can run on GPU (much faster)."
   ]
  },
  {
   "cell_type": "code",
   "execution_count": 5,
   "id": "022fbf0d",
   "metadata": {},
   "outputs": [
    {
     "name": "stdout",
     "output_type": "stream",
     "text": [
      "GPU available: True\n",
      "Number of GPUs: 1\n",
      "Current GPU: NVIDIA GeForce RTX 3050 6GB Laptop GPU\n"
     ]
    }
   ],
   "source": [
    "import torch\n",
    "\n",
    "# Check if CUDA (GPU) is available\n",
    "gpu_available = torch.cuda.is_available()\n",
    "print(\"GPU available:\", gpu_available)\n",
    "\n",
    "# Number of GPUs\n",
    "print(\"Number of GPUs:\", torch.cuda.device_count())\n",
    "\n",
    "# Name of the current GPU (if available)\n",
    "if gpu_available:\n",
    "    print(\"Current GPU:\", torch.cuda.get_device_name(torch.cuda.current_device()))\n"
   ]
  },
  {
   "cell_type": "markdown",
   "id": "1d2bd47f",
   "metadata": {},
   "source": [
    "Cell 4: Model Setup (VGG16)\n",
    "\n",
    "Loaded pre-trained VGG16 (from ImageNet).\n",
    "\n",
    "Froze convolutional layers (feature extractor part) → only train the classifier part.\n",
    "\n",
    "Modified classifier head:\n",
    "\n",
    "Flatten layer\n",
    "\n",
    "Linear(25088 → 256) + ReLU + Dropout\n",
    "\n",
    "Linear(256 → num_classes) → output layer for your dataset (4 classes).\n",
    "\n",
    "Defined:\n",
    "\n",
    "Loss function: CrossEntropyLoss (multi-class classification).\n",
    "\n",
    "Optimizer: Adam (training only classifier parameters).\n",
    "\n",
    "Printed model summary to confirm architecture."
   ]
  },
  {
   "cell_type": "code",
   "execution_count": 6,
   "id": "cc8b90c9",
   "metadata": {},
   "outputs": [
    {
     "name": "stdout",
     "output_type": "stream",
     "text": [
      "Using device: cuda\n"
     ]
    },
    {
     "name": "stderr",
     "output_type": "stream",
     "text": [
      "d:\\COLLEGE\\Major Project\\Code\\venv\\Lib\\site-packages\\torchvision\\models\\_utils.py:208: UserWarning: The parameter 'pretrained' is deprecated since 0.13 and may be removed in the future, please use 'weights' instead.\n",
      "  warnings.warn(\n",
      "d:\\COLLEGE\\Major Project\\Code\\venv\\Lib\\site-packages\\torchvision\\models\\_utils.py:223: UserWarning: Arguments other than a weight enum or `None` for 'weights' are deprecated since 0.13 and may be removed in the future. The current behavior is equivalent to passing `weights=VGG16_Weights.IMAGENET1K_V1`. You can also use `weights=VGG16_Weights.DEFAULT` to get the most up-to-date weights.\n",
      "  warnings.warn(msg)\n"
     ]
    },
    {
     "name": "stdout",
     "output_type": "stream",
     "text": [
      "----------------------------------------------------------------\n",
      "        Layer (type)               Output Shape         Param #\n",
      "================================================================\n",
      "            Conv2d-1         [-1, 64, 224, 224]           1,792\n",
      "              ReLU-2         [-1, 64, 224, 224]               0\n",
      "            Conv2d-3         [-1, 64, 224, 224]          36,928\n",
      "              ReLU-4         [-1, 64, 224, 224]               0\n",
      "         MaxPool2d-5         [-1, 64, 112, 112]               0\n",
      "            Conv2d-6        [-1, 128, 112, 112]          73,856\n",
      "              ReLU-7        [-1, 128, 112, 112]               0\n",
      "            Conv2d-8        [-1, 128, 112, 112]         147,584\n",
      "              ReLU-9        [-1, 128, 112, 112]               0\n",
      "        MaxPool2d-10          [-1, 128, 56, 56]               0\n",
      "           Conv2d-11          [-1, 256, 56, 56]         295,168\n",
      "             ReLU-12          [-1, 256, 56, 56]               0\n",
      "           Conv2d-13          [-1, 256, 56, 56]         590,080\n",
      "             ReLU-14          [-1, 256, 56, 56]               0\n",
      "           Conv2d-15          [-1, 256, 56, 56]         590,080\n",
      "             ReLU-16          [-1, 256, 56, 56]               0\n",
      "        MaxPool2d-17          [-1, 256, 28, 28]               0\n",
      "           Conv2d-18          [-1, 512, 28, 28]       1,180,160\n",
      "             ReLU-19          [-1, 512, 28, 28]               0\n",
      "           Conv2d-20          [-1, 512, 28, 28]       2,359,808\n",
      "             ReLU-21          [-1, 512, 28, 28]               0\n",
      "           Conv2d-22          [-1, 512, 28, 28]       2,359,808\n",
      "             ReLU-23          [-1, 512, 28, 28]               0\n",
      "        MaxPool2d-24          [-1, 512, 14, 14]               0\n",
      "           Conv2d-25          [-1, 512, 14, 14]       2,359,808\n",
      "             ReLU-26          [-1, 512, 14, 14]               0\n",
      "           Conv2d-27          [-1, 512, 14, 14]       2,359,808\n",
      "             ReLU-28          [-1, 512, 14, 14]               0\n",
      "           Conv2d-29          [-1, 512, 14, 14]       2,359,808\n",
      "             ReLU-30          [-1, 512, 14, 14]               0\n",
      "        MaxPool2d-31            [-1, 512, 7, 7]               0\n",
      "AdaptiveAvgPool2d-32            [-1, 512, 7, 7]               0\n",
      "          Flatten-33                [-1, 25088]               0\n",
      "           Linear-34                  [-1, 256]       6,422,784\n",
      "             ReLU-35                  [-1, 256]               0\n",
      "          Dropout-36                  [-1, 256]               0\n",
      "           Linear-37                    [-1, 4]           1,028\n",
      "================================================================\n",
      "Total params: 21,138,500\n",
      "Trainable params: 6,423,812\n",
      "Non-trainable params: 14,714,688\n",
      "----------------------------------------------------------------\n",
      "Input size (MB): 0.57\n",
      "Forward/backward pass size (MB): 218.78\n",
      "Params size (MB): 80.64\n",
      "Estimated Total Size (MB): 299.99\n",
      "----------------------------------------------------------------\n"
     ]
    }
   ],
   "source": [
    "import torch\n",
    "import torch.nn as nn\n",
    "import torch.optim as optim\n",
    "from torchvision import models\n",
    "\n",
    "# ✅ Device setup (GPU if available)\n",
    "device = torch.device(\"cuda\" if torch.cuda.is_available() else \"cpu\")\n",
    "print(\"Using device:\", device)\n",
    "\n",
    "# ✅ Load pre-trained VGG16 (without classifier)\n",
    "vgg16 = models.vgg16(pretrained=True)\n",
    "\n",
    "# Freeze all convolutional layers\n",
    "for param in vgg16.features.parameters():\n",
    "    param.requires_grad = False\n",
    "\n",
    "# ✅ Modify classifier to match your number of classes\n",
    "num_classes = 4  # replace with your actual number\n",
    "\n",
    "vgg16.classifier = nn.Sequential(\n",
    "    nn.Flatten(),\n",
    "    nn.Linear(25088, 256),  # 25088 = 512*7*7 for VGG16 input 224x224\n",
    "    nn.ReLU(),\n",
    "    nn.Dropout(0.5),\n",
    "    nn.Linear(256, num_classes)  # output layer\n",
    ")\n",
    "\n",
    "# Move model to GPU if available\n",
    "vgg16 = vgg16.to(device)\n",
    "\n",
    "# ✅ Loss and optimizer\n",
    "criterion = nn.CrossEntropyLoss()  # for multi-class classification\n",
    "optimizer = optim.Adam(vgg16.classifier.parameters(), lr=1e-4)  # only train classifier\n",
    "\n",
    "# Optional: model summary (requires torchsummary)\n",
    "from torchsummary import summary\n",
    "summary(vgg16, (3, 224, 224))\n"
   ]
  },
  {
   "cell_type": "markdown",
   "id": "d871e396",
   "metadata": {},
   "source": [
    "Cell 5: Training Loop\n",
    "\n",
    "Defined training for 20 epochs.\n",
    "\n",
    "Implemented:\n",
    "\n",
    "Training phase:\n",
    "\n",
    "Forward pass, compute loss, backward pass, optimizer update.\n",
    "\n",
    "Collected loss and accuracy.\n",
    "\n",
    "Validation phase:\n",
    "\n",
    "Model in eval() mode, no gradient updates.\n",
    "\n",
    "Computed validation loss and accuracy.\n",
    "\n",
    "Stored all metrics in a history dictionary → useful for plotting curves later.\n",
    "\n",
    "Printed per-epoch results:\n",
    "\n",
    "Train Loss, Train Acc, Val Loss, Val Acc."
   ]
  },
  {
   "cell_type": "markdown",
   "id": "cd5af23b",
   "metadata": {},
   "source": [
    "Train the Model"
   ]
  },
  {
   "cell_type": "code",
   "execution_count": 5,
   "id": "1f7d97d5",
   "metadata": {},
   "outputs": [
    {
     "name": "stderr",
     "output_type": "stream",
     "text": [
      "Epoch 1/20 [Train]: 100%|██████████| 744/744 [03:59<00:00,  3.11it/s]\n",
      "Epoch 1/20 [Val]: 100%|██████████| 160/160 [00:45<00:00,  3.55it/s]\n"
     ]
    },
    {
     "name": "stdout",
     "output_type": "stream",
     "text": [
      "Epoch 1/20 -> Train Loss: 0.7650, Train Acc: 0.6674, Val Loss: 0.5450, Val Acc: 0.7732\n"
     ]
    },
    {
     "name": "stderr",
     "output_type": "stream",
     "text": [
      "Epoch 2/20 [Train]: 100%|██████████| 744/744 [03:04<00:00,  4.04it/s]\n",
      "Epoch 2/20 [Val]: 100%|██████████| 160/160 [00:37<00:00,  4.22it/s]\n"
     ]
    },
    {
     "name": "stdout",
     "output_type": "stream",
     "text": [
      "Epoch 2/20 -> Train Loss: 0.5019, Train Acc: 0.7943, Val Loss: 0.4643, Val Acc: 0.8087\n"
     ]
    },
    {
     "name": "stderr",
     "output_type": "stream",
     "text": [
      "Epoch 3/20 [Train]: 100%|██████████| 744/744 [02:59<00:00,  4.14it/s]\n",
      "Epoch 3/20 [Val]: 100%|██████████| 160/160 [00:38<00:00,  4.19it/s]\n"
     ]
    },
    {
     "name": "stdout",
     "output_type": "stream",
     "text": [
      "Epoch 3/20 -> Train Loss: 0.3893, Train Acc: 0.8485, Val Loss: 0.3550, Val Acc: 0.8634\n"
     ]
    },
    {
     "name": "stderr",
     "output_type": "stream",
     "text": [
      "Epoch 4/20 [Train]: 100%|██████████| 744/744 [02:59<00:00,  4.14it/s]\n",
      "Epoch 4/20 [Val]: 100%|██████████| 160/160 [00:38<00:00,  4.17it/s]\n"
     ]
    },
    {
     "name": "stdout",
     "output_type": "stream",
     "text": [
      "Epoch 4/20 -> Train Loss: 0.3100, Train Acc: 0.8810, Val Loss: 0.2953, Val Acc: 0.8854\n"
     ]
    },
    {
     "name": "stderr",
     "output_type": "stream",
     "text": [
      "Epoch 5/20 [Train]: 100%|██████████| 744/744 [03:22<00:00,  3.68it/s]\n",
      "Epoch 5/20 [Val]: 100%|██████████| 160/160 [00:53<00:00,  2.99it/s]\n"
     ]
    },
    {
     "name": "stdout",
     "output_type": "stream",
     "text": [
      "Epoch 5/20 -> Train Loss: 0.2484, Train Acc: 0.9114, Val Loss: 0.2461, Val Acc: 0.9086\n"
     ]
    },
    {
     "name": "stderr",
     "output_type": "stream",
     "text": [
      "Epoch 6/20 [Train]: 100%|██████████| 744/744 [04:10<00:00,  2.97it/s]\n",
      "Epoch 6/20 [Val]: 100%|██████████| 160/160 [00:38<00:00,  4.13it/s]\n"
     ]
    },
    {
     "name": "stdout",
     "output_type": "stream",
     "text": [
      "Epoch 6/20 -> Train Loss: 0.2084, Train Acc: 0.9259, Val Loss: 0.2298, Val Acc: 0.9137\n"
     ]
    },
    {
     "name": "stderr",
     "output_type": "stream",
     "text": [
      "Epoch 7/20 [Train]: 100%|██████████| 744/744 [03:21<00:00,  3.69it/s]\n",
      "Epoch 7/20 [Val]: 100%|██████████| 160/160 [00:39<00:00,  4.04it/s]\n"
     ]
    },
    {
     "name": "stdout",
     "output_type": "stream",
     "text": [
      "Epoch 7/20 -> Train Loss: 0.1705, Train Acc: 0.9428, Val Loss: 0.1981, Val Acc: 0.9258\n"
     ]
    },
    {
     "name": "stderr",
     "output_type": "stream",
     "text": [
      "Epoch 8/20 [Train]: 100%|██████████| 744/744 [03:11<00:00,  3.89it/s]\n",
      "Epoch 8/20 [Val]: 100%|██████████| 160/160 [00:49<00:00,  3.26it/s]\n"
     ]
    },
    {
     "name": "stdout",
     "output_type": "stream",
     "text": [
      "Epoch 8/20 -> Train Loss: 0.1459, Train Acc: 0.9520, Val Loss: 0.1887, Val Acc: 0.9272\n"
     ]
    },
    {
     "name": "stderr",
     "output_type": "stream",
     "text": [
      "Epoch 9/20 [Train]: 100%|██████████| 744/744 [03:00<00:00,  4.13it/s]\n",
      "Epoch 9/20 [Val]: 100%|██████████| 160/160 [00:38<00:00,  4.14it/s]\n"
     ]
    },
    {
     "name": "stdout",
     "output_type": "stream",
     "text": [
      "Epoch 9/20 -> Train Loss: 0.1236, Train Acc: 0.9586, Val Loss: 0.1690, Val Acc: 0.9400\n"
     ]
    },
    {
     "name": "stderr",
     "output_type": "stream",
     "text": [
      "Epoch 10/20 [Train]: 100%|██████████| 744/744 [03:25<00:00,  3.62it/s]\n",
      "Epoch 10/20 [Val]: 100%|██████████| 160/160 [00:48<00:00,  3.32it/s]\n"
     ]
    },
    {
     "name": "stdout",
     "output_type": "stream",
     "text": [
      "Epoch 10/20 -> Train Loss: 0.1067, Train Acc: 0.9648, Val Loss: 0.1607, Val Acc: 0.9411\n"
     ]
    },
    {
     "name": "stderr",
     "output_type": "stream",
     "text": [
      "Epoch 11/20 [Train]: 100%|██████████| 744/744 [03:34<00:00,  3.47it/s]\n",
      "Epoch 11/20 [Val]: 100%|██████████| 160/160 [00:46<00:00,  3.42it/s]\n"
     ]
    },
    {
     "name": "stdout",
     "output_type": "stream",
     "text": [
      "Epoch 11/20 -> Train Loss: 0.0897, Train Acc: 0.9720, Val Loss: 0.1646, Val Acc: 0.9398\n"
     ]
    },
    {
     "name": "stderr",
     "output_type": "stream",
     "text": [
      "Epoch 12/20 [Train]: 100%|██████████| 744/744 [02:57<00:00,  4.20it/s]\n",
      "Epoch 12/20 [Val]: 100%|██████████| 160/160 [00:36<00:00,  4.36it/s]\n"
     ]
    },
    {
     "name": "stdout",
     "output_type": "stream",
     "text": [
      "Epoch 12/20 -> Train Loss: 0.0776, Train Acc: 0.9759, Val Loss: 0.1614, Val Acc: 0.9407\n"
     ]
    },
    {
     "name": "stderr",
     "output_type": "stream",
     "text": [
      "Epoch 13/20 [Train]: 100%|██████████| 744/744 [02:59<00:00,  4.13it/s]\n",
      "Epoch 13/20 [Val]: 100%|██████████| 160/160 [00:45<00:00,  3.54it/s]\n"
     ]
    },
    {
     "name": "stdout",
     "output_type": "stream",
     "text": [
      "Epoch 13/20 -> Train Loss: 0.0680, Train Acc: 0.9801, Val Loss: 0.1453, Val Acc: 0.9476\n"
     ]
    },
    {
     "name": "stderr",
     "output_type": "stream",
     "text": [
      "Epoch 14/20 [Train]: 100%|██████████| 744/744 [04:25<00:00,  2.80it/s]\n",
      "Epoch 14/20 [Val]: 100%|██████████| 160/160 [00:56<00:00,  2.83it/s]\n"
     ]
    },
    {
     "name": "stdout",
     "output_type": "stream",
     "text": [
      "Epoch 14/20 -> Train Loss: 0.0689, Train Acc: 0.9778, Val Loss: 0.1422, Val Acc: 0.9502\n"
     ]
    },
    {
     "name": "stderr",
     "output_type": "stream",
     "text": [
      "Epoch 15/20 [Train]: 100%|██████████| 744/744 [03:54<00:00,  3.18it/s]\n",
      "Epoch 15/20 [Val]: 100%|██████████| 160/160 [00:49<00:00,  3.25it/s]\n"
     ]
    },
    {
     "name": "stdout",
     "output_type": "stream",
     "text": [
      "Epoch 15/20 -> Train Loss: 0.0613, Train Acc: 0.9814, Val Loss: 0.1456, Val Acc: 0.9486\n"
     ]
    },
    {
     "name": "stderr",
     "output_type": "stream",
     "text": [
      "Epoch 16/20 [Train]: 100%|██████████| 744/744 [04:58<00:00,  2.49it/s]\n",
      "Epoch 16/20 [Val]: 100%|██████████| 160/160 [01:24<00:00,  1.90it/s]\n"
     ]
    },
    {
     "name": "stdout",
     "output_type": "stream",
     "text": [
      "Epoch 16/20 -> Train Loss: 0.0501, Train Acc: 0.9848, Val Loss: 0.1328, Val Acc: 0.9533\n"
     ]
    },
    {
     "name": "stderr",
     "output_type": "stream",
     "text": [
      "Epoch 17/20 [Train]: 100%|██████████| 744/744 [05:37<00:00,  2.21it/s]\n",
      "Epoch 17/20 [Val]: 100%|██████████| 160/160 [00:50<00:00,  3.16it/s]\n"
     ]
    },
    {
     "name": "stdout",
     "output_type": "stream",
     "text": [
      "Epoch 17/20 -> Train Loss: 0.0481, Train Acc: 0.9855, Val Loss: 0.1353, Val Acc: 0.9545\n"
     ]
    },
    {
     "name": "stderr",
     "output_type": "stream",
     "text": [
      "Epoch 18/20 [Train]: 100%|██████████| 744/744 [03:05<00:00,  4.01it/s]\n",
      "Epoch 18/20 [Val]: 100%|██████████| 160/160 [00:37<00:00,  4.24it/s]\n"
     ]
    },
    {
     "name": "stdout",
     "output_type": "stream",
     "text": [
      "Epoch 18/20 -> Train Loss: 0.0434, Train Acc: 0.9866, Val Loss: 0.1412, Val Acc: 0.9513\n"
     ]
    },
    {
     "name": "stderr",
     "output_type": "stream",
     "text": [
      "Epoch 19/20 [Train]: 100%|██████████| 744/744 [03:04<00:00,  4.02it/s]\n",
      "Epoch 19/20 [Val]: 100%|██████████| 160/160 [00:37<00:00,  4.23it/s]\n"
     ]
    },
    {
     "name": "stdout",
     "output_type": "stream",
     "text": [
      "Epoch 19/20 -> Train Loss: 0.0431, Train Acc: 0.9870, Val Loss: 0.1543, Val Acc: 0.9457\n"
     ]
    },
    {
     "name": "stderr",
     "output_type": "stream",
     "text": [
      "Epoch 20/20 [Train]: 100%|██████████| 744/744 [03:03<00:00,  4.06it/s]\n",
      "Epoch 20/20 [Val]: 100%|██████████| 160/160 [00:37<00:00,  4.25it/s]"
     ]
    },
    {
     "name": "stdout",
     "output_type": "stream",
     "text": [
      "Epoch 20/20 -> Train Loss: 0.0368, Train Acc: 0.9890, Val Loss: 0.1346, Val Acc: 0.9531\n"
     ]
    },
    {
     "name": "stderr",
     "output_type": "stream",
     "text": [
      "\n"
     ]
    }
   ],
   "source": [
    "import torch\n",
    "from tqdm import tqdm  # for progress bar\n",
    "\n",
    "EPOCHS = 20\n",
    "device = torch.device(\"cuda\" if torch.cuda.is_available() else \"cpu\")\n",
    "\n",
    "# History dictionary to store metrics\n",
    "history = {'train_loss': [], 'train_acc': [], 'val_loss': [], 'val_acc': []}\n",
    "\n",
    "for epoch in range(EPOCHS):\n",
    "    # --------- Training ---------\n",
    "    vgg16.train()\n",
    "    running_loss, correct, total = 0.0, 0, 0\n",
    "    \n",
    "    for images, labels in tqdm(train_loader, desc=f\"Epoch {epoch+1}/{EPOCHS} [Train]\"):\n",
    "        images, labels = images.to(device), labels.to(device)\n",
    "        \n",
    "        optimizer.zero_grad()\n",
    "        outputs = vgg16(images)\n",
    "        loss = criterion(outputs, labels)\n",
    "        loss.backward()\n",
    "        optimizer.step()\n",
    "        \n",
    "        running_loss += loss.item() * images.size(0)\n",
    "        _, predicted = torch.max(outputs, 1)\n",
    "        total += labels.size(0)\n",
    "        correct += (predicted == labels).sum().item()\n",
    "    \n",
    "    train_loss = running_loss / total\n",
    "    train_acc = correct / total\n",
    "\n",
    "    # --------- Validation ---------\n",
    "    vgg16.eval()\n",
    "    val_loss, val_correct, val_total = 0.0, 0, 0\n",
    "    with torch.no_grad():\n",
    "        for images, labels in tqdm(val_loader, desc=f\"Epoch {epoch+1}/{EPOCHS} [Val]\"):\n",
    "            images, labels = images.to(device), labels.to(device)\n",
    "            outputs = vgg16(images)\n",
    "            loss = criterion(outputs, labels)\n",
    "            \n",
    "            val_loss += loss.item() * images.size(0)\n",
    "            _, predicted = torch.max(outputs, 1)\n",
    "            val_total += labels.size(0)\n",
    "            val_correct += (predicted == labels).sum().item()\n",
    "    \n",
    "    val_loss /= val_total\n",
    "    val_acc = val_correct / val_total\n",
    "\n",
    "    # Store metrics\n",
    "    history['train_loss'].append(train_loss)\n",
    "    history['train_acc'].append(train_acc)\n",
    "    history['val_loss'].append(val_loss)\n",
    "    history['val_acc'].append(val_acc)\n",
    "\n",
    "    print(f\"Epoch {epoch+1}/{EPOCHS} -> \"\n",
    "          f\"Train Loss: {train_loss:.4f}, Train Acc: {train_acc:.4f}, \"\n",
    "          f\"Val Loss: {val_loss:.4f}, Val Acc: {val_acc:.4f}\")\n"
   ]
  },
  {
   "cell_type": "markdown",
   "id": "fd50378f",
   "metadata": {},
   "source": [
    "Save the Best Model"
   ]
  },
  {
   "cell_type": "code",
   "execution_count": 7,
   "id": "7ad4e7bd",
   "metadata": {},
   "outputs": [
    {
     "ename": "NameError",
     "evalue": "name 'EPOCHS' is not defined",
     "output_type": "error",
     "traceback": [
      "\u001b[31m---------------------------------------------------------------------------\u001b[39m",
      "\u001b[31mNameError\u001b[39m                                 Traceback (most recent call last)",
      "\u001b[36mCell\u001b[39m\u001b[36m \u001b[39m\u001b[32mIn[7]\u001b[39m\u001b[32m, line 3\u001b[39m\n\u001b[32m      1\u001b[39m best_val_acc = \u001b[32m0.0\u001b[39m\n\u001b[32m----> \u001b[39m\u001b[32m3\u001b[39m \u001b[38;5;28;01mfor\u001b[39;00m epoch \u001b[38;5;129;01min\u001b[39;00m \u001b[38;5;28mrange\u001b[39m(\u001b[43mEPOCHS\u001b[49m):\n\u001b[32m      4\u001b[39m     \u001b[38;5;66;03m# ... training + validation ...\u001b[39;00m\n\u001b[32m      5\u001b[39m     \u001b[38;5;28;01mif\u001b[39;00m val_acc > best_val_acc:\n\u001b[32m      6\u001b[39m         best_val_acc = val_acc\n",
      "\u001b[31mNameError\u001b[39m: name 'EPOCHS' is not defined"
     ]
    }
   ],
   "source": [
    "best_val_acc = 0.0\n",
    "\n",
    "for epoch in range(EPOCHS):\n",
    "    # ... training + validation ...\n",
    "    if val_acc > best_val_acc:\n",
    "        best_val_acc = val_acc\n",
    "        torch.save(vgg16.state_dict(), \"best_vgg16_alzheimer.pth\")\n",
    "        print(f\"** Best model saved at epoch {epoch+1} with val_acc = {best_val_acc:.4f}\")\n"
   ]
  },
  {
   "cell_type": "markdown",
   "id": "ad5a4fd0",
   "metadata": {},
   "source": [
    "You can now load this saved model anytime for testing, inference, or deployment"
   ]
  },
  {
   "cell_type": "code",
   "execution_count": 8,
   "id": "cd2f10da",
   "metadata": {},
   "outputs": [
    {
     "data": {
      "text/plain": [
       "VGG(\n",
       "  (features): Sequential(\n",
       "    (0): Conv2d(3, 64, kernel_size=(3, 3), stride=(1, 1), padding=(1, 1))\n",
       "    (1): ReLU(inplace=True)\n",
       "    (2): Conv2d(64, 64, kernel_size=(3, 3), stride=(1, 1), padding=(1, 1))\n",
       "    (3): ReLU(inplace=True)\n",
       "    (4): MaxPool2d(kernel_size=2, stride=2, padding=0, dilation=1, ceil_mode=False)\n",
       "    (5): Conv2d(64, 128, kernel_size=(3, 3), stride=(1, 1), padding=(1, 1))\n",
       "    (6): ReLU(inplace=True)\n",
       "    (7): Conv2d(128, 128, kernel_size=(3, 3), stride=(1, 1), padding=(1, 1))\n",
       "    (8): ReLU(inplace=True)\n",
       "    (9): MaxPool2d(kernel_size=2, stride=2, padding=0, dilation=1, ceil_mode=False)\n",
       "    (10): Conv2d(128, 256, kernel_size=(3, 3), stride=(1, 1), padding=(1, 1))\n",
       "    (11): ReLU(inplace=True)\n",
       "    (12): Conv2d(256, 256, kernel_size=(3, 3), stride=(1, 1), padding=(1, 1))\n",
       "    (13): ReLU(inplace=True)\n",
       "    (14): Conv2d(256, 256, kernel_size=(3, 3), stride=(1, 1), padding=(1, 1))\n",
       "    (15): ReLU(inplace=True)\n",
       "    (16): MaxPool2d(kernel_size=2, stride=2, padding=0, dilation=1, ceil_mode=False)\n",
       "    (17): Conv2d(256, 512, kernel_size=(3, 3), stride=(1, 1), padding=(1, 1))\n",
       "    (18): ReLU(inplace=True)\n",
       "    (19): Conv2d(512, 512, kernel_size=(3, 3), stride=(1, 1), padding=(1, 1))\n",
       "    (20): ReLU(inplace=True)\n",
       "    (21): Conv2d(512, 512, kernel_size=(3, 3), stride=(1, 1), padding=(1, 1))\n",
       "    (22): ReLU(inplace=True)\n",
       "    (23): MaxPool2d(kernel_size=2, stride=2, padding=0, dilation=1, ceil_mode=False)\n",
       "    (24): Conv2d(512, 512, kernel_size=(3, 3), stride=(1, 1), padding=(1, 1))\n",
       "    (25): ReLU(inplace=True)\n",
       "    (26): Conv2d(512, 512, kernel_size=(3, 3), stride=(1, 1), padding=(1, 1))\n",
       "    (27): ReLU(inplace=True)\n",
       "    (28): Conv2d(512, 512, kernel_size=(3, 3), stride=(1, 1), padding=(1, 1))\n",
       "    (29): ReLU(inplace=True)\n",
       "    (30): MaxPool2d(kernel_size=2, stride=2, padding=0, dilation=1, ceil_mode=False)\n",
       "  )\n",
       "  (avgpool): AdaptiveAvgPool2d(output_size=(7, 7))\n",
       "  (classifier): Sequential(\n",
       "    (0): Flatten(start_dim=1, end_dim=-1)\n",
       "    (1): Linear(in_features=25088, out_features=256, bias=True)\n",
       "    (2): ReLU()\n",
       "    (3): Dropout(p=0.5, inplace=False)\n",
       "    (4): Linear(in_features=256, out_features=4, bias=True)\n",
       "  )\n",
       ")"
      ]
     },
     "execution_count": 8,
     "metadata": {},
     "output_type": "execute_result"
    }
   ],
   "source": [
    "vgg16.load_state_dict(torch.load(\"best_vgg16_alzheimer.pth\"))\n",
    "vgg16.eval()\n"
   ]
  },
  {
   "cell_type": "markdown",
   "id": "8464d824",
   "metadata": {},
   "source": [
    "Plot Learning Curves"
   ]
  },
  {
   "cell_type": "code",
   "execution_count": 27,
   "id": "ef51a39c",
   "metadata": {},
   "outputs": [
    {
     "ename": "NameError",
     "evalue": "name 'history' is not defined",
     "output_type": "error",
     "traceback": [
      "\u001b[31m---------------------------------------------------------------------------\u001b[39m",
      "\u001b[31mNameError\u001b[39m                                 Traceback (most recent call last)",
      "\u001b[36mCell\u001b[39m\u001b[36m \u001b[39m\u001b[32mIn[27]\u001b[39m\u001b[32m, line 5\u001b[39m\n\u001b[32m      3\u001b[39m plt.figure(figsize=(\u001b[32m12\u001b[39m,\u001b[32m5\u001b[39m))\n\u001b[32m      4\u001b[39m plt.subplot(\u001b[32m1\u001b[39m,\u001b[32m2\u001b[39m,\u001b[32m1\u001b[39m)\n\u001b[32m----> \u001b[39m\u001b[32m5\u001b[39m plt.plot(\u001b[43mhistory\u001b[49m[\u001b[33m'\u001b[39m\u001b[33mtrain_loss\u001b[39m\u001b[33m'\u001b[39m], label=\u001b[33m'\u001b[39m\u001b[33mTrain Loss\u001b[39m\u001b[33m'\u001b[39m)\n\u001b[32m      6\u001b[39m plt.plot(history[\u001b[33m'\u001b[39m\u001b[33mval_loss\u001b[39m\u001b[33m'\u001b[39m], label=\u001b[33m'\u001b[39m\u001b[33mVal Loss\u001b[39m\u001b[33m'\u001b[39m)\n\u001b[32m      7\u001b[39m plt.legend(); plt.title(\u001b[33m'\u001b[39m\u001b[33mLoss Curve\u001b[39m\u001b[33m'\u001b[39m)\n",
      "\u001b[31mNameError\u001b[39m: name 'history' is not defined"
     ]
    },
    {
     "data": {
      "image/png": "[encoded data removed]",
      "text/plain": [
       "<Figure size 1200x500 with 1 Axes>"
      ]
     },
     "metadata": {},
     "output_type": "display_data"
    }
   ],
   "source": [
    "import matplotlib.pyplot as plt\n",
    "\n",
    "plt.figure(figsize=(12,5))\n",
    "plt.subplot(1,2,1)\n",
    "plt.plot(history['train_loss'], label='Train Loss')\n",
    "plt.plot(history['val_loss'], label='Val Loss')\n",
    "plt.legend(); plt.title('Loss Curve')\n",
    "\n",
    "plt.subplot(1,2,2)\n",
    "plt.plot(history['train_acc'], label='Train Acc')\n",
    "plt.plot(history['val_acc'], label='Val Acc')\n",
    "plt.legend(); plt.title('Accuracy Curve')\n",
    "plt.show()\n"
   ]
  },
  {
   "cell_type": "markdown",
   "id": "9c2f50a5",
   "metadata": {},
   "source": [
    "Test the Model"
   ]
  },
  {
   "cell_type": "code",
   "execution_count": 10,
   "id": "102d5532",
   "metadata": {},
   "outputs": [
    {
     "name": "stdout",
     "output_type": "stream",
     "text": [
      "Test Accuracy: 0.9555\n"
     ]
    }
   ],
   "source": [
    "vgg16.eval()\n",
    "correct, total = 0, 0\n",
    "with torch.no_grad():\n",
    "    for images, labels in test_loader:\n",
    "        images, labels = images.to(device), labels.to(device)\n",
    "        outputs = vgg16(images)\n",
    "        _, predicted = torch.max(outputs, 1)\n",
    "        total += labels.size(0)\n",
    "        correct += (predicted == labels).sum().item()\n",
    "\n",
    "print(f\"Test Accuracy: {correct/total:.4f}\")\n"
   ]
  },
  {
   "cell_type": "markdown",
   "id": "860316ec",
   "metadata": {},
   "source": [
    "1️⃣ Confusion Matrix"
   ]
  },
  {
   "cell_type": "code",
   "execution_count": 11,
   "id": "096b151c",
   "metadata": {},
   "outputs": [
    {
     "data": {
      "image/png": "[encoded data removed]",
      "text/plain": [
       "<Figure size 600x500 with 2 Axes>"
      ]
     },
     "metadata": {},
     "output_type": "display_data"
    }
   ],
   "source": [
    "from sklearn.metrics import confusion_matrix\n",
    "import seaborn as sns\n",
    "import matplotlib.pyplot as plt\n",
    "\n",
    "all_labels = []\n",
    "all_preds = []\n",
    "\n",
    "vgg16.eval()\n",
    "with torch.no_grad():\n",
    "    for images, labels in test_loader:\n",
    "        images, labels = images.to(device), labels.to(device)\n",
    "        outputs = vgg16(images)\n",
    "        _, predicted = torch.max(outputs, 1)\n",
    "        all_labels.extend(labels.cpu().numpy())\n",
    "        all_preds.extend(predicted.cpu().numpy())\n",
    "\n",
    "cm = confusion_matrix(all_labels, all_preds)\n",
    "plt.figure(figsize=(6,5))\n",
    "sns.heatmap(cm, annot=True, fmt='d', cmap='Blues')\n",
    "plt.xlabel('Predicted')\n",
    "plt.ylabel('Actual')\n",
    "plt.title('Confusion Matrix')\n",
    "plt.show()\n"
   ]
  },
  {
   "cell_type": "markdown",
   "id": "0327f75a",
   "metadata": {},
   "source": [
    "2️⃣ Classification Report"
   ]
  },
  {
   "cell_type": "code",
   "execution_count": 12,
   "id": "a7331b01",
   "metadata": {},
   "outputs": [
    {
     "name": "stdout",
     "output_type": "stream",
     "text": [
      "              precision    recall  f1-score   support\n",
      "\n",
      "      Class0       0.96      0.98      0.97      1344\n",
      "      Class1       1.00      1.00      1.00       971\n",
      "      Class2       0.96      0.92      0.94      1440\n",
      "      Class3       0.91      0.94      0.93      1344\n",
      "\n",
      "    accuracy                           0.96      5099\n",
      "   macro avg       0.96      0.96      0.96      5099\n",
      "weighted avg       0.96      0.96      0.96      5099\n",
      "\n"
     ]
    }
   ],
   "source": [
    "from sklearn.metrics import classification_report\n",
    "\n",
    "print(classification_report(all_labels, all_preds, target_names=['Class0','Class1','Class2','Class3']))\n"
   ]
  },
  {
   "cell_type": "markdown",
   "id": "ca701e63",
   "metadata": {},
   "source": [
    "3️⃣ ROC Curve / AUC"
   ]
  },
  {
   "cell_type": "code",
   "execution_count": 14,
   "id": "46381a9d",
   "metadata": {},
   "outputs": [
    {
     "data": {
      "image/png": "[encoded data removed]",
      "text/plain": [
       "<Figure size 640x480 with 1 Axes>"
      ]
     },
     "metadata": {},
     "output_type": "display_data"
    }
   ],
   "source": [
    "import numpy as np\n",
    "from sklearn.metrics import roc_curve, auc\n",
    "from sklearn.preprocessing import label_binarize\n",
    "import matplotlib.pyplot as plt\n",
    "\n",
    "# Example for 3 classes\n",
    "num_classes = 3  # change if you have more\n",
    "y_true = label_binarize(all_labels, classes=list(range(num_classes)))\n",
    "\n",
    "y_score = []\n",
    "vgg16.eval()\n",
    "with torch.no_grad():  # disables gradient computation\n",
    "    for images, _ in test_loader:\n",
    "        images = images.to(device)\n",
    "        outputs = torch.nn.functional.softmax(vgg16(images), dim=1)\n",
    "        y_score.append(outputs.cpu().detach().numpy())  # detach here\n",
    "\n",
    "y_score = np.vstack(y_score)\n",
    "\n",
    "# Plot ROC curves\n",
    "for i in range(num_classes):\n",
    "    fpr, tpr, _ = roc_curve(y_true[:, i], y_score[:, i])\n",
    "    roc_auc = auc(fpr, tpr)\n",
    "    plt.plot(fpr, tpr, label=f'Class {i} (AUC = {roc_auc:.2f})')\n",
    "\n",
    "plt.plot([0, 1], [0, 1], 'k--')\n",
    "plt.xlabel('False Positive Rate')\n",
    "plt.ylabel('True Positive Rate')\n",
    "plt.title('ROC Curve')\n",
    "plt.legend()\n",
    "plt.show()\n"
   ]
  },
  {
   "cell_type": "markdown",
   "id": "e14099ed",
   "metadata": {},
   "source": [
    "4️⃣ Save the Model"
   ]
  },
  {
   "cell_type": "code",
   "execution_count": 15,
   "id": "58dde165",
   "metadata": {},
   "outputs": [],
   "source": [
    "torch.save(vgg16.state_dict(), \"best_vgg16_alzheimer.pth\")"
   ]
  },
  {
   "cell_type": "markdown",
   "id": "9d83656f",
   "metadata": {},
   "source": [
    "reload later"
   ]
  },
  {
   "cell_type": "code",
   "execution_count": 16,
   "id": "bcd7e9a9",
   "metadata": {},
   "outputs": [
    {
     "data": {
      "text/plain": [
       "VGG(\n",
       "  (features): Sequential(\n",
       "    (0): Conv2d(3, 64, kernel_size=(3, 3), stride=(1, 1), padding=(1, 1))\n",
       "    (1): ReLU(inplace=True)\n",
       "    (2): Conv2d(64, 64, kernel_size=(3, 3), stride=(1, 1), padding=(1, 1))\n",
       "    (3): ReLU(inplace=True)\n",
       "    (4): MaxPool2d(kernel_size=2, stride=2, padding=0, dilation=1, ceil_mode=False)\n",
       "    (5): Conv2d(64, 128, kernel_size=(3, 3), stride=(1, 1), padding=(1, 1))\n",
       "    (6): ReLU(inplace=True)\n",
       "    (7): Conv2d(128, 128, kernel_size=(3, 3), stride=(1, 1), padding=(1, 1))\n",
       "    (8): ReLU(inplace=True)\n",
       "    (9): MaxPool2d(kernel_size=2, stride=2, padding=0, dilation=1, ceil_mode=False)\n",
       "    (10): Conv2d(128, 256, kernel_size=(3, 3), stride=(1, 1), padding=(1, 1))\n",
       "    (11): ReLU(inplace=True)\n",
       "    (12): Conv2d(256, 256, kernel_size=(3, 3), stride=(1, 1), padding=(1, 1))\n",
       "    (13): ReLU(inplace=True)\n",
       "    (14): Conv2d(256, 256, kernel_size=(3, 3), stride=(1, 1), padding=(1, 1))\n",
       "    (15): ReLU(inplace=True)\n",
       "    (16): MaxPool2d(kernel_size=2, stride=2, padding=0, dilation=1, ceil_mode=False)\n",
       "    (17): Conv2d(256, 512, kernel_size=(3, 3), stride=(1, 1), padding=(1, 1))\n",
       "    (18): ReLU(inplace=True)\n",
       "    (19): Conv2d(512, 512, kernel_size=(3, 3), stride=(1, 1), padding=(1, 1))\n",
       "    (20): ReLU(inplace=True)\n",
       "    (21): Conv2d(512, 512, kernel_size=(3, 3), stride=(1, 1), padding=(1, 1))\n",
       "    (22): ReLU(inplace=True)\n",
       "    (23): MaxPool2d(kernel_size=2, stride=2, padding=0, dilation=1, ceil_mode=False)\n",
       "    (24): Conv2d(512, 512, kernel_size=(3, 3), stride=(1, 1), padding=(1, 1))\n",
       "    (25): ReLU(inplace=True)\n",
       "    (26): Conv2d(512, 512, kernel_size=(3, 3), stride=(1, 1), padding=(1, 1))\n",
       "    (27): ReLU(inplace=True)\n",
       "    (28): Conv2d(512, 512, kernel_size=(3, 3), stride=(1, 1), padding=(1, 1))\n",
       "    (29): ReLU(inplace=True)\n",
       "    (30): MaxPool2d(kernel_size=2, stride=2, padding=0, dilation=1, ceil_mode=False)\n",
       "  )\n",
       "  (avgpool): AdaptiveAvgPool2d(output_size=(7, 7))\n",
       "  (classifier): Sequential(\n",
       "    (0): Flatten(start_dim=1, end_dim=-1)\n",
       "    (1): Linear(in_features=25088, out_features=256, bias=True)\n",
       "    (2): ReLU()\n",
       "    (3): Dropout(p=0.5, inplace=False)\n",
       "    (4): Linear(in_features=256, out_features=4, bias=True)\n",
       "  )\n",
       ")"
      ]
     },
     "execution_count": 16,
     "metadata": {},
     "output_type": "execute_result"
    }
   ],
   "source": [
    "vgg16.load_state_dict(torch.load(\"best_vgg16_alzheimer.pth\"))\n",
    "vgg16.eval()\n"
   ]
  },
  {
   "cell_type": "markdown",
   "id": "b7363511",
   "metadata": {},
   "source": [
    "5️⃣ Inference on New Images"
   ]
  },
  {
   "cell_type": "code",
   "execution_count": 26,
   "id": "1096d4de",
   "metadata": {},
   "outputs": [
    {
     "name": "stdout",
     "output_type": "stream",
     "text": [
      "Predicted Class Index: 3\n",
      "Predicted Class Name: VeryMildDemented\n"
     ]
    }
   ],
   "source": [
    "from PIL import Image\n",
    "from torchvision import transforms\n",
    "\n",
    "# Preprocessing (match your training)\n",
    "transform = transforms.Compose([\n",
    "    transforms.Resize((224,224)),\n",
    "    transforms.ToTensor(),\n",
    "    transforms.Normalize([0.485,0.456,0.406], [0.229,0.224,0.225])\n",
    "])\n",
    "\n",
    "# Load image (change path to the image you want to test)\n",
    "img = Image.open(r\"D:\\Split data\\test\\VeryMildDemented\\1b8d18bb-0a28-476a-8783-5aeb91fb036c.jpg\").convert('RGB')\n",
    "img = transform(img).unsqueeze(0).to(device)\n",
    "\n",
    "# Class mapping\n",
    "class_indices = {'MildDemented': 0, 'ModerateDemented': 1, 'NonDemented': 2, 'VeryMildDemented': 3}\n",
    "index_to_class = {v: k for k, v in class_indices.items()}\n",
    "\n",
    "# Run inference\n",
    "vgg16.eval()\n",
    "with torch.no_grad():\n",
    "    output = vgg16(img)\n",
    "    _, pred = torch.max(output, 1)\n",
    "    predicted_index = pred.item()\n",
    "    predicted_class = index_to_class[predicted_index]\n",
    "\n",
    "print(f\"Predicted Class Index: {predicted_index}\")\n",
    "print(f\"Predicted Class Name: {predicted_class}\")\n"
   ]
  }
 ],
 "metadata": {
  "kernelspec": {
   "display_name": "venv",
   "language": "python",
   "name": "python3"
  },
  "language_info": {
   "codemirror_mode": {
    "name": "ipython",
    "version": 3
   },
   "file_extension": ".py",
   "mimetype": "text/x-python",
   "name": "python",
   "nbconvert_exporter": "python",
   "pygments_lexer": "ipython3",
   "version": "3.11.9"
  }
 },
 "nbformat": 4,
 "nbformat_minor": 5
}
